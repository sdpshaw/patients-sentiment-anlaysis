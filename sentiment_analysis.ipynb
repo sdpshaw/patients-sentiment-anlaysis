{
  "cells": [
    {
      "cell_type": "code",
      "execution_count": 147,
      "metadata": {
        "colab": {
          "base_uri": "https://localhost:8080/"
        },
        "id": "uMKXdzY2zlIG",
        "outputId": "ba853b81-1537-4868-d9c0-f61b28e60548"
      },
      "outputs": [
        {
          "output_type": "stream",
          "name": "stderr",
          "text": [
            "[nltk_data] Downloading package punkt to /root/nltk_data...\n",
            "[nltk_data]   Package punkt is already up-to-date!\n",
            "[nltk_data] Downloading package stopwords to /root/nltk_data...\n",
            "[nltk_data]   Package stopwords is already up-to-date!\n",
            "[nltk_data] Downloading package wordnet to /root/nltk_data...\n",
            "[nltk_data]   Package wordnet is already up-to-date!\n"
          ]
        },
        {
          "output_type": "execute_result",
          "data": {
            "text/plain": [
              "True"
            ]
          },
          "metadata": {},
          "execution_count": 147
        }
      ],
      "source": [
        "import os\n",
        "import pandas as pd\n",
        "import seaborn as sns\n",
        "import matplotlib.pyplot as plt\n",
        "import seaborn as sns\n",
        "from sklearn.feature_extraction.text import TfidfVectorizer\n",
        "from sklearn.model_selection import train_test_split\n",
        "from sklearn.feature_extraction.text import TfidfTransformer\n",
        "from sklearn.naive_bayes import MultinomialNB\n",
        "from sklearn.linear_model import LogisticRegression\n",
        "from sklearn.ensemble import RandomForestClassifier\n",
        "from sklearn.svm import LinearSVC\n",
        "from sklearn.neighbors import KNeighborsClassifier\n",
        "from sklearn.metrics import confusion_matrix\n",
        "from sklearn import metrics\n",
        "import nltk\n",
        "from nltk.stem import WordNetLemmatizer\n",
        "from nltk.corpus import stopwords\n",
        "from nltk import word_tokenize\n",
        "nltk.download('punkt')\n",
        "nltk.download('stopwords')\n",
        "nltk.download('wordnet')"
      ]
    },
    {
      "cell_type": "code",
      "execution_count": 148,
      "metadata": {
        "id": "rXQ9ta_Z12eJ"
      },
      "outputs": [],
      "source": [
        "def read_file(path):\n",
        "  \"\"\"\n",
        "  Read the text file and return as dataframe\n",
        "  \"\"\"\n",
        "  file = open(path, \"r\")\n",
        "  s = file.readlines()\n",
        "  input = []\n",
        "  emotions = []\n",
        "  for row in s:\n",
        "    x = row.split(\";\")\n",
        "    input.append(x[0])\n",
        "    emotions.append(x[1][:-1])\n",
        "  df = pd.DataFrame({\"input_text\":input,\"emotions\":emotions})\n",
        "  return df"
      ]
    },
    {
      "cell_type": "code",
      "execution_count": 149,
      "metadata": {
        "id": "-jzJwm6eyIRp"
      },
      "outputs": [],
      "source": [
        "# file paths\n",
        "train_path = \"train.txt\"\n",
        "test_path = \"test.txt\"\n",
        "val_path = \"val.txt\""
      ]
    },
    {
      "cell_type": "code",
      "execution_count": 150,
      "metadata": {
        "id": "2WNY4rM3yLBt"
      },
      "outputs": [],
      "source": [
        "# reading the train, test and validation file\n",
        "df_test = read_file(test_path)\n",
        "df_train = read_file(train_path)\n",
        "df_val = read_file(val_path)"
      ]
    },
    {
      "cell_type": "code",
      "execution_count": 151,
      "metadata": {
        "id": "gzxJopN7zwbt",
        "colab": {
          "base_uri": "https://localhost:8080/"
        },
        "outputId": "0d0b82ac-736c-492c-db94-f1d009216524"
      },
      "outputs": [
        {
          "output_type": "stream",
          "name": "stdout",
          "text": [
            "['.config', 'train.txt', 'test.txt', 'val.txt', 'sample_data']\n"
          ]
        }
      ],
      "source": [
        "print(os.listdir())"
      ]
    },
    {
      "cell_type": "code",
      "execution_count": 152,
      "metadata": {
        "id": "uVNe-ydh3J12",
        "colab": {
          "base_uri": "https://localhost:8080/"
        },
        "outputId": "fe9539a9-ef6b-426a-b18a-9bc4678d2650"
      },
      "outputs": [
        {
          "output_type": "stream",
          "name": "stdout",
          "text": [
            "train : (16000, 2)\n",
            "test: (2000, 2)\n",
            "Validation: (2000, 2)\n"
          ]
        }
      ],
      "source": [
        "print(f\"train : {df_train.shape}\\ntest: {df_test.shape}\\nValidation: {df_val.shape}\")"
      ]
    },
    {
      "cell_type": "code",
      "execution_count": 153,
      "metadata": {
        "colab": {
          "base_uri": "https://localhost:8080/",
          "height": 206
        },
        "id": "nNu5Wq2I3KvC",
        "outputId": "36eb552b-fe4b-49cc-cc69-ecd729cec1ec"
      },
      "outputs": [
        {
          "output_type": "execute_result",
          "data": {
            "text/plain": [
              "                                          input_text emotions\n",
              "0                            i didnt feel humiliated  sadness\n",
              "1  i can go from feeling so hopeless to so damned...  sadness\n",
              "2   im grabbing a minute to post i feel greedy wrong    anger\n",
              "3  i am ever feeling nostalgic about the fireplac...     love\n",
              "4                               i am feeling grouchy    anger"
            ],
            "text/html": [
              "\n",
              "  <div id=\"df-369dec6a-1d0f-425e-8d2c-f526150940c7\" class=\"colab-df-container\">\n",
              "    <div>\n",
              "<style scoped>\n",
              "    .dataframe tbody tr th:only-of-type {\n",
              "        vertical-align: middle;\n",
              "    }\n",
              "\n",
              "    .dataframe tbody tr th {\n",
              "        vertical-align: top;\n",
              "    }\n",
              "\n",
              "    .dataframe thead th {\n",
              "        text-align: right;\n",
              "    }\n",
              "</style>\n",
              "<table border=\"1\" class=\"dataframe\">\n",
              "  <thead>\n",
              "    <tr style=\"text-align: right;\">\n",
              "      <th></th>\n",
              "      <th>input_text</th>\n",
              "      <th>emotions</th>\n",
              "    </tr>\n",
              "  </thead>\n",
              "  <tbody>\n",
              "    <tr>\n",
              "      <th>0</th>\n",
              "      <td>i didnt feel humiliated</td>\n",
              "      <td>sadness</td>\n",
              "    </tr>\n",
              "    <tr>\n",
              "      <th>1</th>\n",
              "      <td>i can go from feeling so hopeless to so damned...</td>\n",
              "      <td>sadness</td>\n",
              "    </tr>\n",
              "    <tr>\n",
              "      <th>2</th>\n",
              "      <td>im grabbing a minute to post i feel greedy wrong</td>\n",
              "      <td>anger</td>\n",
              "    </tr>\n",
              "    <tr>\n",
              "      <th>3</th>\n",
              "      <td>i am ever feeling nostalgic about the fireplac...</td>\n",
              "      <td>love</td>\n",
              "    </tr>\n",
              "    <tr>\n",
              "      <th>4</th>\n",
              "      <td>i am feeling grouchy</td>\n",
              "      <td>anger</td>\n",
              "    </tr>\n",
              "  </tbody>\n",
              "</table>\n",
              "</div>\n",
              "    <div class=\"colab-df-buttons\">\n",
              "\n",
              "  <div class=\"colab-df-container\">\n",
              "    <button class=\"colab-df-convert\" onclick=\"convertToInteractive('df-369dec6a-1d0f-425e-8d2c-f526150940c7')\"\n",
              "            title=\"Convert this dataframe to an interactive table.\"\n",
              "            style=\"display:none;\">\n",
              "\n",
              "  <svg xmlns=\"http://www.w3.org/2000/svg\" height=\"24px\" viewBox=\"0 -960 960 960\">\n",
              "    <path d=\"M120-120v-720h720v720H120Zm60-500h600v-160H180v160Zm220 220h160v-160H400v160Zm0 220h160v-160H400v160ZM180-400h160v-160H180v160Zm440 0h160v-160H620v160ZM180-180h160v-160H180v160Zm440 0h160v-160H620v160Z\"/>\n",
              "  </svg>\n",
              "    </button>\n",
              "\n",
              "  <style>\n",
              "    .colab-df-container {\n",
              "      display:flex;\n",
              "      gap: 12px;\n",
              "    }\n",
              "\n",
              "    .colab-df-convert {\n",
              "      background-color: #E8F0FE;\n",
              "      border: none;\n",
              "      border-radius: 50%;\n",
              "      cursor: pointer;\n",
              "      display: none;\n",
              "      fill: #1967D2;\n",
              "      height: 32px;\n",
              "      padding: 0 0 0 0;\n",
              "      width: 32px;\n",
              "    }\n",
              "\n",
              "    .colab-df-convert:hover {\n",
              "      background-color: #E2EBFA;\n",
              "      box-shadow: 0px 1px 2px rgba(60, 64, 67, 0.3), 0px 1px 3px 1px rgba(60, 64, 67, 0.15);\n",
              "      fill: #174EA6;\n",
              "    }\n",
              "\n",
              "    .colab-df-buttons div {\n",
              "      margin-bottom: 4px;\n",
              "    }\n",
              "\n",
              "    [theme=dark] .colab-df-convert {\n",
              "      background-color: #3B4455;\n",
              "      fill: #D2E3FC;\n",
              "    }\n",
              "\n",
              "    [theme=dark] .colab-df-convert:hover {\n",
              "      background-color: #434B5C;\n",
              "      box-shadow: 0px 1px 3px 1px rgba(0, 0, 0, 0.15);\n",
              "      filter: drop-shadow(0px 1px 2px rgba(0, 0, 0, 0.3));\n",
              "      fill: #FFFFFF;\n",
              "    }\n",
              "  </style>\n",
              "\n",
              "    <script>\n",
              "      const buttonEl =\n",
              "        document.querySelector('#df-369dec6a-1d0f-425e-8d2c-f526150940c7 button.colab-df-convert');\n",
              "      buttonEl.style.display =\n",
              "        google.colab.kernel.accessAllowed ? 'block' : 'none';\n",
              "\n",
              "      async function convertToInteractive(key) {\n",
              "        const element = document.querySelector('#df-369dec6a-1d0f-425e-8d2c-f526150940c7');\n",
              "        const dataTable =\n",
              "          await google.colab.kernel.invokeFunction('convertToInteractive',\n",
              "                                                    [key], {});\n",
              "        if (!dataTable) return;\n",
              "\n",
              "        const docLinkHtml = 'Like what you see? Visit the ' +\n",
              "          '<a target=\"_blank\" href=https://colab.research.google.com/notebooks/data_table.ipynb>data table notebook</a>'\n",
              "          + ' to learn more about interactive tables.';\n",
              "        element.innerHTML = '';\n",
              "        dataTable['output_type'] = 'display_data';\n",
              "        await google.colab.output.renderOutput(dataTable, element);\n",
              "        const docLink = document.createElement('div');\n",
              "        docLink.innerHTML = docLinkHtml;\n",
              "        element.appendChild(docLink);\n",
              "      }\n",
              "    </script>\n",
              "  </div>\n",
              "\n",
              "\n",
              "<div id=\"df-fe4ce189-666d-4718-9185-a618fb694bfb\">\n",
              "  <button class=\"colab-df-quickchart\" onclick=\"quickchart('df-fe4ce189-666d-4718-9185-a618fb694bfb')\"\n",
              "            title=\"Suggest charts\"\n",
              "            style=\"display:none;\">\n",
              "\n",
              "<svg xmlns=\"http://www.w3.org/2000/svg\" height=\"24px\"viewBox=\"0 0 24 24\"\n",
              "     width=\"24px\">\n",
              "    <g>\n",
              "        <path d=\"M19 3H5c-1.1 0-2 .9-2 2v14c0 1.1.9 2 2 2h14c1.1 0 2-.9 2-2V5c0-1.1-.9-2-2-2zM9 17H7v-7h2v7zm4 0h-2V7h2v10zm4 0h-2v-4h2v4z\"/>\n",
              "    </g>\n",
              "</svg>\n",
              "  </button>\n",
              "\n",
              "<style>\n",
              "  .colab-df-quickchart {\n",
              "      --bg-color: #E8F0FE;\n",
              "      --fill-color: #1967D2;\n",
              "      --hover-bg-color: #E2EBFA;\n",
              "      --hover-fill-color: #174EA6;\n",
              "      --disabled-fill-color: #AAA;\n",
              "      --disabled-bg-color: #DDD;\n",
              "  }\n",
              "\n",
              "  [theme=dark] .colab-df-quickchart {\n",
              "      --bg-color: #3B4455;\n",
              "      --fill-color: #D2E3FC;\n",
              "      --hover-bg-color: #434B5C;\n",
              "      --hover-fill-color: #FFFFFF;\n",
              "      --disabled-bg-color: #3B4455;\n",
              "      --disabled-fill-color: #666;\n",
              "  }\n",
              "\n",
              "  .colab-df-quickchart {\n",
              "    background-color: var(--bg-color);\n",
              "    border: none;\n",
              "    border-radius: 50%;\n",
              "    cursor: pointer;\n",
              "    display: none;\n",
              "    fill: var(--fill-color);\n",
              "    height: 32px;\n",
              "    padding: 0;\n",
              "    width: 32px;\n",
              "  }\n",
              "\n",
              "  .colab-df-quickchart:hover {\n",
              "    background-color: var(--hover-bg-color);\n",
              "    box-shadow: 0 1px 2px rgba(60, 64, 67, 0.3), 0 1px 3px 1px rgba(60, 64, 67, 0.15);\n",
              "    fill: var(--button-hover-fill-color);\n",
              "  }\n",
              "\n",
              "  .colab-df-quickchart-complete:disabled,\n",
              "  .colab-df-quickchart-complete:disabled:hover {\n",
              "    background-color: var(--disabled-bg-color);\n",
              "    fill: var(--disabled-fill-color);\n",
              "    box-shadow: none;\n",
              "  }\n",
              "\n",
              "  .colab-df-spinner {\n",
              "    border: 2px solid var(--fill-color);\n",
              "    border-color: transparent;\n",
              "    border-bottom-color: var(--fill-color);\n",
              "    animation:\n",
              "      spin 1s steps(1) infinite;\n",
              "  }\n",
              "\n",
              "  @keyframes spin {\n",
              "    0% {\n",
              "      border-color: transparent;\n",
              "      border-bottom-color: var(--fill-color);\n",
              "      border-left-color: var(--fill-color);\n",
              "    }\n",
              "    20% {\n",
              "      border-color: transparent;\n",
              "      border-left-color: var(--fill-color);\n",
              "      border-top-color: var(--fill-color);\n",
              "    }\n",
              "    30% {\n",
              "      border-color: transparent;\n",
              "      border-left-color: var(--fill-color);\n",
              "      border-top-color: var(--fill-color);\n",
              "      border-right-color: var(--fill-color);\n",
              "    }\n",
              "    40% {\n",
              "      border-color: transparent;\n",
              "      border-right-color: var(--fill-color);\n",
              "      border-top-color: var(--fill-color);\n",
              "    }\n",
              "    60% {\n",
              "      border-color: transparent;\n",
              "      border-right-color: var(--fill-color);\n",
              "    }\n",
              "    80% {\n",
              "      border-color: transparent;\n",
              "      border-right-color: var(--fill-color);\n",
              "      border-bottom-color: var(--fill-color);\n",
              "    }\n",
              "    90% {\n",
              "      border-color: transparent;\n",
              "      border-bottom-color: var(--fill-color);\n",
              "    }\n",
              "  }\n",
              "</style>\n",
              "\n",
              "  <script>\n",
              "    async function quickchart(key) {\n",
              "      const quickchartButtonEl =\n",
              "        document.querySelector('#' + key + ' button');\n",
              "      quickchartButtonEl.disabled = true;  // To prevent multiple clicks.\n",
              "      quickchartButtonEl.classList.add('colab-df-spinner');\n",
              "      try {\n",
              "        const charts = await google.colab.kernel.invokeFunction(\n",
              "            'suggestCharts', [key], {});\n",
              "      } catch (error) {\n",
              "        console.error('Error during call to suggestCharts:', error);\n",
              "      }\n",
              "      quickchartButtonEl.classList.remove('colab-df-spinner');\n",
              "      quickchartButtonEl.classList.add('colab-df-quickchart-complete');\n",
              "    }\n",
              "    (() => {\n",
              "      let quickchartButtonEl =\n",
              "        document.querySelector('#df-fe4ce189-666d-4718-9185-a618fb694bfb button');\n",
              "      quickchartButtonEl.style.display =\n",
              "        google.colab.kernel.accessAllowed ? 'block' : 'none';\n",
              "    })();\n",
              "  </script>\n",
              "</div>\n",
              "\n",
              "    </div>\n",
              "  </div>\n"
            ],
            "application/vnd.google.colaboratory.intrinsic+json": {
              "type": "dataframe",
              "variable_name": "df_train",
              "summary": "{\n  \"name\": \"df_train\",\n  \"rows\": 16000,\n  \"fields\": [\n    {\n      \"column\": \"input_text\",\n      \"properties\": {\n        \"dtype\": \"string\",\n        \"num_unique_values\": 15969,\n        \"samples\": [\n          \"i feel rather imbicilic or at least complacent\",\n          \"i was in the bathroom i had sat down to pee it was to make me feel submissive again per instructions\",\n          \"i am thrilled with the way my skin and hair feel if you are like me you are skeptical\"\n        ],\n        \"semantic_type\": \"\",\n        \"description\": \"\"\n      }\n    },\n    {\n      \"column\": \"emotions\",\n      \"properties\": {\n        \"dtype\": \"category\",\n        \"num_unique_values\": 6,\n        \"samples\": [\n          \"sadness\",\n          \"anger\",\n          \"joy\"\n        ],\n        \"semantic_type\": \"\",\n        \"description\": \"\"\n      }\n    }\n  ]\n}"
            }
          },
          "metadata": {},
          "execution_count": 153
        }
      ],
      "source": [
        "df_train.head()"
      ]
    },
    {
      "cell_type": "code",
      "execution_count": 154,
      "metadata": {
        "colab": {
          "base_uri": "https://localhost:8080/"
        },
        "id": "RFvjU4KB4BgB",
        "outputId": "3fc9bd49-bf37-4aab-fbb2-d44e21f92f4a"
      },
      "outputs": [
        {
          "output_type": "stream",
          "name": "stdout",
          "text": [
            "(16000, 2)\n",
            "(2000, 2)\n",
            "(2000, 2)\n"
          ]
        }
      ],
      "source": [
        "# Remove missing values (NaN)\n",
        "df_train = df_train[pd.notnull(df_train['input_text'])]\n",
        "df_test = df_test[pd.notnull(df_test['input_text'])]\n",
        "df_val = df_val[pd.notnull(df_val['input_text'])]\n",
        "\n",
        "print(df_train.shape)\n",
        "print(df_test.shape)\n",
        "print(df_val.shape)"
      ]
    },
    {
      "cell_type": "code",
      "execution_count": 155,
      "metadata": {
        "id": "9aWXdqPNP9LJ"
      },
      "outputs": [],
      "source": [
        "# Create a copy of each dataframe\n",
        "df_train1 = df_train.copy()\n",
        "df_test1 = df_test.copy()\n",
        "df_val1 = df_val.copy()"
      ]
    },
    {
      "cell_type": "code",
      "execution_count": 156,
      "metadata": {
        "colab": {
          "base_uri": "https://localhost:8080/"
        },
        "id": "qf8O4Xa77laL",
        "outputId": "fbc9adb5-69de-424b-841e-dc8da5255691"
      },
      "outputs": [
        {
          "output_type": "execute_result",
          "data": {
            "text/plain": [
              "array([['sadness'],\n",
              "       ['anger'],\n",
              "       ['love'],\n",
              "       ['surprise'],\n",
              "       ['fear'],\n",
              "       ['joy']], dtype=object)"
            ]
          },
          "metadata": {},
          "execution_count": 156
        }
      ],
      "source": [
        "# number of emotions class\n",
        "pd.DataFrame(df_train1.emotions.unique()).values"
      ]
    },
    {
      "cell_type": "code",
      "execution_count": 157,
      "metadata": {
        "colab": {
          "base_uri": "https://localhost:8080/",
          "height": 430
        },
        "id": "N9b-SnM4RMmF",
        "outputId": "261b5c59-90fd-4f20-ba42-37c4df646834"
      },
      "outputs": [
        {
          "output_type": "display_data",
          "data": {
            "text/plain": [
              "<Figure size 640x480 with 1 Axes>"
            ],
            "image/png": "[encoded data removed]"
          },
          "metadata": {}
        }
      ],
      "source": [
        "# getting the distribution of emotions\n",
        "from matplotlib import pyplot as plt\n",
        "import seaborn as sns\n",
        "df_train1.groupby('emotions').size().plot(kind='barh', color=sns.palettes.mpl_palette('Dark2'))\n",
        "plt.gca().spines[['top', 'right',]].set_visible(False)"
      ]
    },
    {
      "cell_type": "code",
      "execution_count": 158,
      "metadata": {
        "colab": {
          "base_uri": "https://localhost:8080/"
        },
        "id": "afyEYog0RQ-S",
        "outputId": "f6cb9f59-4c99-48e1-e592-9b8c5f161ad5"
      },
      "outputs": [
        {
          "output_type": "execute_result",
          "data": {
            "text/plain": [
              "joy         33.51250\n",
              "sadness     29.16250\n",
              "anger       13.49375\n",
              "fear        12.10625\n",
              "love         8.15000\n",
              "surprise     3.57500\n",
              "Name: emotions, dtype: float64"
            ]
          },
          "metadata": {},
          "execution_count": 158
        }
      ],
      "source": [
        "# get the percantage of each emotion\n",
        "df_train1[\"emotions\"].value_counts()/df_train1.shape[0] * 100"
      ]
    },
    {
      "cell_type": "markdown",
      "source": [
        "We can see that there is class imbalance in data\n",
        "\n",
        "\n"
      ],
      "metadata": {
        "id": "hx_8yM6p8-mT"
      }
    },
    {
      "cell_type": "code",
      "source": [
        "input = \"input_text\"\n",
        "target = \"emotions\"\n",
        "encoded_target = \"sentiment_id\""
      ],
      "metadata": {
        "id": "flJQqr8c9Q-H"
      },
      "execution_count": 159,
      "outputs": []
    },
    {
      "cell_type": "code",
      "source": [
        "# preprocessing steps\n",
        "class preprocessing:\n",
        "  def __init__(self, df, col):\n",
        "    self.df = df\n",
        "    self.col = col\n",
        "    self.col_clean = col\n",
        "    self.lower_case()\n",
        "    self.tokenize_sentence()\n",
        "    self.stem()\n",
        "    self.remove_non_alpha()\n",
        "    self.remove_stopwords()\n",
        "  def lower_case(self):\n",
        "    # Lowercase the text\n",
        "    self.df[self.col_clean] = self.df[self.col].str.lower()\n",
        "  def tokenize_sentence(self):\n",
        "    # Tokenize the text\n",
        "    self.df[self.col_clean] = self.df[self.col].apply(nltk.word_tokenize)\n",
        "  def remove_stopwords(self):\n",
        "    # Remove stopwords\n",
        "    self.df[self.col_clean] = self.df[self.col_clean].apply(lambda x: \" \".join([char for char in x if char not in stopwords.words('english')]))\n",
        "  def remove_non_alpha(self):\n",
        "    # Remove punctuation and other no aphabetic characters from tokens\n",
        "    self.df[self.col_clean] = self.df[self.col_clean].apply(lambda x: [char for char in x if char.isalpha()])\n",
        "  def stem(self):\n",
        "    # Convert the tokenized words into its base form\n",
        "    lm = nltk.WordNetLemmatizer()\n",
        "    self.df[self.col_clean] = self.df[self.col_clean].apply(lambda x: [lm.lemmatize(word) for word in x])"
      ],
      "metadata": {
        "id": "yVnxJRzhjn5F"
      },
      "execution_count": 160,
      "outputs": []
    },
    {
      "cell_type": "code",
      "source": [
        "df_train1 = preprocessing(df_train1, input)\n",
        "df_test1 = preprocessing(df_test1, input)\n",
        "df_val1 = preprocessing(df_val1, input)"
      ],
      "metadata": {
        "id": "Fo6nQR2QjyDB"
      },
      "execution_count": 161,
      "outputs": []
    },
    {
      "cell_type": "code",
      "source": [
        "df_train1 = df_train1.df\n",
        "df_test1 = df_test1.df\n",
        "df_val1 = df_val1.df"
      ],
      "metadata": {
        "id": "Aq1WQzwrk4eG"
      },
      "execution_count": 162,
      "outputs": []
    },
    {
      "cell_type": "code",
      "execution_count": 163,
      "metadata": {
        "id": "RLSUbBPvBACO"
      },
      "outputs": [],
      "source": [
        "# Create a new column 'sentiment_id' with encoded categories\n",
        "def encode_target(df, target_col, encoded_target):\n",
        "  df[encoded_target] = df[target_col].factorize()[0]\n",
        "  return df"
      ]
    },
    {
      "cell_type": "code",
      "execution_count": 164,
      "metadata": {
        "id": "6CVkcTWOpyS7"
      },
      "outputs": [],
      "source": [
        "df_train1 = encode_target(df_train1, target, encoded_target)\n",
        "df_test1 = encode_target(df_test1, target, encoded_target)\n",
        "df_val1 = encode_target(df_val1, target, encoded_target)"
      ]
    },
    {
      "cell_type": "code",
      "execution_count": 165,
      "metadata": {
        "colab": {
          "base_uri": "https://localhost:8080/",
          "height": 206
        },
        "id": "8cKTr8fpvV9T",
        "outputId": "069654fe-290c-484a-e4e6-15fc8577216a"
      },
      "outputs": [
        {
          "output_type": "execute_result",
          "data": {
            "text/plain": [
              "                                          input_text emotions  sentiment_id\n",
              "0                              didnt feel humiliated  sadness             0\n",
              "1  go feeling hopeless damned hopeful around some...  sadness             0\n",
              "2          im grabbing minute post feel greedy wrong    anger             1\n",
              "3  ever feeling nostalgic fireplace know still pr...     love             2\n",
              "4                                    feeling grouchy    anger             1"
            ],
            "text/html": [
              "\n",
              "  <div id=\"df-963b9f9e-7b7a-47cb-b317-7673bbf3189f\" class=\"colab-df-container\">\n",
              "    <div>\n",
              "<style scoped>\n",
              "    .dataframe tbody tr th:only-of-type {\n",
              "        vertical-align: middle;\n",
              "    }\n",
              "\n",
              "    .dataframe tbody tr th {\n",
              "        vertical-align: top;\n",
              "    }\n",
              "\n",
              "    .dataframe thead th {\n",
              "        text-align: right;\n",
              "    }\n",
              "</style>\n",
              "<table border=\"1\" class=\"dataframe\">\n",
              "  <thead>\n",
              "    <tr style=\"text-align: right;\">\n",
              "      <th></th>\n",
              "      <th>input_text</th>\n",
              "      <th>emotions</th>\n",
              "      <th>sentiment_id</th>\n",
              "    </tr>\n",
              "  </thead>\n",
              "  <tbody>\n",
              "    <tr>\n",
              "      <th>0</th>\n",
              "      <td>didnt feel humiliated</td>\n",
              "      <td>sadness</td>\n",
              "      <td>0</td>\n",
              "    </tr>\n",
              "    <tr>\n",
              "      <th>1</th>\n",
              "      <td>go feeling hopeless damned hopeful around some...</td>\n",
              "      <td>sadness</td>\n",
              "      <td>0</td>\n",
              "    </tr>\n",
              "    <tr>\n",
              "      <th>2</th>\n",
              "      <td>im grabbing minute post feel greedy wrong</td>\n",
              "      <td>anger</td>\n",
              "      <td>1</td>\n",
              "    </tr>\n",
              "    <tr>\n",
              "      <th>3</th>\n",
              "      <td>ever feeling nostalgic fireplace know still pr...</td>\n",
              "      <td>love</td>\n",
              "      <td>2</td>\n",
              "    </tr>\n",
              "    <tr>\n",
              "      <th>4</th>\n",
              "      <td>feeling grouchy</td>\n",
              "      <td>anger</td>\n",
              "      <td>1</td>\n",
              "    </tr>\n",
              "  </tbody>\n",
              "</table>\n",
              "</div>\n",
              "    <div class=\"colab-df-buttons\">\n",
              "\n",
              "  <div class=\"colab-df-container\">\n",
              "    <button class=\"colab-df-convert\" onclick=\"convertToInteractive('df-963b9f9e-7b7a-47cb-b317-7673bbf3189f')\"\n",
              "            title=\"Convert this dataframe to an interactive table.\"\n",
              "            style=\"display:none;\">\n",
              "\n",
              "  <svg xmlns=\"http://www.w3.org/2000/svg\" height=\"24px\" viewBox=\"0 -960 960 960\">\n",
              "    <path d=\"M120-120v-720h720v720H120Zm60-500h600v-160H180v160Zm220 220h160v-160H400v160Zm0 220h160v-160H400v160ZM180-400h160v-160H180v160Zm440 0h160v-160H620v160ZM180-180h160v-160H180v160Zm440 0h160v-160H620v160Z\"/>\n",
              "  </svg>\n",
              "    </button>\n",
              "\n",
              "  <style>\n",
              "    .colab-df-container {\n",
              "      display:flex;\n",
              "      gap: 12px;\n",
              "    }\n",
              "\n",
              "    .colab-df-convert {\n",
              "      background-color: #E8F0FE;\n",
              "      border: none;\n",
              "      border-radius: 50%;\n",
              "      cursor: pointer;\n",
              "      display: none;\n",
              "      fill: #1967D2;\n",
              "      height: 32px;\n",
              "      padding: 0 0 0 0;\n",
              "      width: 32px;\n",
              "    }\n",
              "\n",
              "    .colab-df-convert:hover {\n",
              "      background-color: #E2EBFA;\n",
              "      box-shadow: 0px 1px 2px rgba(60, 64, 67, 0.3), 0px 1px 3px 1px rgba(60, 64, 67, 0.15);\n",
              "      fill: #174EA6;\n",
              "    }\n",
              "\n",
              "    .colab-df-buttons div {\n",
              "      margin-bottom: 4px;\n",
              "    }\n",
              "\n",
              "    [theme=dark] .colab-df-convert {\n",
              "      background-color: #3B4455;\n",
              "      fill: #D2E3FC;\n",
              "    }\n",
              "\n",
              "    [theme=dark] .colab-df-convert:hover {\n",
              "      background-color: #434B5C;\n",
              "      box-shadow: 0px 1px 3px 1px rgba(0, 0, 0, 0.15);\n",
              "      filter: drop-shadow(0px 1px 2px rgba(0, 0, 0, 0.3));\n",
              "      fill: #FFFFFF;\n",
              "    }\n",
              "  </style>\n",
              "\n",
              "    <script>\n",
              "      const buttonEl =\n",
              "        document.querySelector('#df-963b9f9e-7b7a-47cb-b317-7673bbf3189f button.colab-df-convert');\n",
              "      buttonEl.style.display =\n",
              "        google.colab.kernel.accessAllowed ? 'block' : 'none';\n",
              "\n",
              "      async function convertToInteractive(key) {\n",
              "        const element = document.querySelector('#df-963b9f9e-7b7a-47cb-b317-7673bbf3189f');\n",
              "        const dataTable =\n",
              "          await google.colab.kernel.invokeFunction('convertToInteractive',\n",
              "                                                    [key], {});\n",
              "        if (!dataTable) return;\n",
              "\n",
              "        const docLinkHtml = 'Like what you see? Visit the ' +\n",
              "          '<a target=\"_blank\" href=https://colab.research.google.com/notebooks/data_table.ipynb>data table notebook</a>'\n",
              "          + ' to learn more about interactive tables.';\n",
              "        element.innerHTML = '';\n",
              "        dataTable['output_type'] = 'display_data';\n",
              "        await google.colab.output.renderOutput(dataTable, element);\n",
              "        const docLink = document.createElement('div');\n",
              "        docLink.innerHTML = docLinkHtml;\n",
              "        element.appendChild(docLink);\n",
              "      }\n",
              "    </script>\n",
              "  </div>\n",
              "\n",
              "\n",
              "<div id=\"df-b18666d1-c1a9-491f-a8d9-5f70a969f811\">\n",
              "  <button class=\"colab-df-quickchart\" onclick=\"quickchart('df-b18666d1-c1a9-491f-a8d9-5f70a969f811')\"\n",
              "            title=\"Suggest charts\"\n",
              "            style=\"display:none;\">\n",
              "\n",
              "<svg xmlns=\"http://www.w3.org/2000/svg\" height=\"24px\"viewBox=\"0 0 24 24\"\n",
              "     width=\"24px\">\n",
              "    <g>\n",
              "        <path d=\"M19 3H5c-1.1 0-2 .9-2 2v14c0 1.1.9 2 2 2h14c1.1 0 2-.9 2-2V5c0-1.1-.9-2-2-2zM9 17H7v-7h2v7zm4 0h-2V7h2v10zm4 0h-2v-4h2v4z\"/>\n",
              "    </g>\n",
              "</svg>\n",
              "  </button>\n",
              "\n",
              "<style>\n",
              "  .colab-df-quickchart {\n",
              "      --bg-color: #E8F0FE;\n",
              "      --fill-color: #1967D2;\n",
              "      --hover-bg-color: #E2EBFA;\n",
              "      --hover-fill-color: #174EA6;\n",
              "      --disabled-fill-color: #AAA;\n",
              "      --disabled-bg-color: #DDD;\n",
              "  }\n",
              "\n",
              "  [theme=dark] .colab-df-quickchart {\n",
              "      --bg-color: #3B4455;\n",
              "      --fill-color: #D2E3FC;\n",
              "      --hover-bg-color: #434B5C;\n",
              "      --hover-fill-color: #FFFFFF;\n",
              "      --disabled-bg-color: #3B4455;\n",
              "      --disabled-fill-color: #666;\n",
              "  }\n",
              "\n",
              "  .colab-df-quickchart {\n",
              "    background-color: var(--bg-color);\n",
              "    border: none;\n",
              "    border-radius: 50%;\n",
              "    cursor: pointer;\n",
              "    display: none;\n",
              "    fill: var(--fill-color);\n",
              "    height: 32px;\n",
              "    padding: 0;\n",
              "    width: 32px;\n",
              "  }\n",
              "\n",
              "  .colab-df-quickchart:hover {\n",
              "    background-color: var(--hover-bg-color);\n",
              "    box-shadow: 0 1px 2px rgba(60, 64, 67, 0.3), 0 1px 3px 1px rgba(60, 64, 67, 0.15);\n",
              "    fill: var(--button-hover-fill-color);\n",
              "  }\n",
              "\n",
              "  .colab-df-quickchart-complete:disabled,\n",
              "  .colab-df-quickchart-complete:disabled:hover {\n",
              "    background-color: var(--disabled-bg-color);\n",
              "    fill: var(--disabled-fill-color);\n",
              "    box-shadow: none;\n",
              "  }\n",
              "\n",
              "  .colab-df-spinner {\n",
              "    border: 2px solid var(--fill-color);\n",
              "    border-color: transparent;\n",
              "    border-bottom-color: var(--fill-color);\n",
              "    animation:\n",
              "      spin 1s steps(1) infinite;\n",
              "  }\n",
              "\n",
              "  @keyframes spin {\n",
              "    0% {\n",
              "      border-color: transparent;\n",
              "      border-bottom-color: var(--fill-color);\n",
              "      border-left-color: var(--fill-color);\n",
              "    }\n",
              "    20% {\n",
              "      border-color: transparent;\n",
              "      border-left-color: var(--fill-color);\n",
              "      border-top-color: var(--fill-color);\n",
              "    }\n",
              "    30% {\n",
              "      border-color: transparent;\n",
              "      border-left-color: var(--fill-color);\n",
              "      border-top-color: var(--fill-color);\n",
              "      border-right-color: var(--fill-color);\n",
              "    }\n",
              "    40% {\n",
              "      border-color: transparent;\n",
              "      border-right-color: var(--fill-color);\n",
              "      border-top-color: var(--fill-color);\n",
              "    }\n",
              "    60% {\n",
              "      border-color: transparent;\n",
              "      border-right-color: var(--fill-color);\n",
              "    }\n",
              "    80% {\n",
              "      border-color: transparent;\n",
              "      border-right-color: var(--fill-color);\n",
              "      border-bottom-color: var(--fill-color);\n",
              "    }\n",
              "    90% {\n",
              "      border-color: transparent;\n",
              "      border-bottom-color: var(--fill-color);\n",
              "    }\n",
              "  }\n",
              "</style>\n",
              "\n",
              "  <script>\n",
              "    async function quickchart(key) {\n",
              "      const quickchartButtonEl =\n",
              "        document.querySelector('#' + key + ' button');\n",
              "      quickchartButtonEl.disabled = true;  // To prevent multiple clicks.\n",
              "      quickchartButtonEl.classList.add('colab-df-spinner');\n",
              "      try {\n",
              "        const charts = await google.colab.kernel.invokeFunction(\n",
              "            'suggestCharts', [key], {});\n",
              "      } catch (error) {\n",
              "        console.error('Error during call to suggestCharts:', error);\n",
              "      }\n",
              "      quickchartButtonEl.classList.remove('colab-df-spinner');\n",
              "      quickchartButtonEl.classList.add('colab-df-quickchart-complete');\n",
              "    }\n",
              "    (() => {\n",
              "      let quickchartButtonEl =\n",
              "        document.querySelector('#df-b18666d1-c1a9-491f-a8d9-5f70a969f811 button');\n",
              "      quickchartButtonEl.style.display =\n",
              "        google.colab.kernel.accessAllowed ? 'block' : 'none';\n",
              "    })();\n",
              "  </script>\n",
              "</div>\n",
              "\n",
              "    </div>\n",
              "  </div>\n"
            ],
            "application/vnd.google.colaboratory.intrinsic+json": {
              "type": "dataframe",
              "variable_name": "df_train1",
              "summary": "{\n  \"name\": \"df_train1\",\n  \"rows\": 16000,\n  \"fields\": [\n    {\n      \"column\": \"input_text\",\n      \"properties\": {\n        \"dtype\": \"string\",\n        \"num_unique_values\": 15886,\n        \"samples\": [\n          \"never really luck im feeling bit jaded\",\n          \"feel despairing sadness much time working cut tie\",\n          \"feel back onto bed caring stinging eye\"\n        ],\n        \"semantic_type\": \"\",\n        \"description\": \"\"\n      }\n    },\n    {\n      \"column\": \"emotions\",\n      \"properties\": {\n        \"dtype\": \"category\",\n        \"num_unique_values\": 6,\n        \"samples\": [\n          \"sadness\",\n          \"anger\",\n          \"joy\"\n        ],\n        \"semantic_type\": \"\",\n        \"description\": \"\"\n      }\n    },\n    {\n      \"column\": \"sentiment_id\",\n      \"properties\": {\n        \"dtype\": \"number\",\n        \"std\": 2,\n        \"min\": 0,\n        \"max\": 5,\n        \"num_unique_values\": 6,\n        \"samples\": [\n          0,\n          1,\n          5\n        ],\n        \"semantic_type\": \"\",\n        \"description\": \"\"\n      }\n    }\n  ]\n}"
            }
          },
          "metadata": {},
          "execution_count": 165
        }
      ],
      "source": [
        "df_train1.head()"
      ]
    },
    {
      "cell_type": "code",
      "execution_count": 166,
      "metadata": {
        "id": "J9j4zM7VBAHI"
      },
      "outputs": [],
      "source": [
        "\n",
        "def vectorize_X(df, input, max_words):\n",
        "  tfidf = TfidfVectorizer(max_features=max_words,sublinear_tf=True, min_df=5,\n",
        "                          ngram_range=(1, 2),\n",
        "                          stop_words='english')\n",
        "\n",
        "  # We transform each complaint into a vector\n",
        "  X = tfidf.fit_transform(df[input]).toarray()\n",
        "  print(\"Each of the %d input_text is represented by %d features (TF-IDF score of unigrams and bigrams)\" %(X.shape))\n",
        "  return X, tfidf"
      ]
    },
    {
      "cell_type": "code",
      "source": [
        "# converting data to vector\n",
        "max_words = 1500"
      ],
      "metadata": {
        "id": "RltlxS1jih0U"
      },
      "execution_count": 167,
      "outputs": []
    },
    {
      "cell_type": "code",
      "execution_count": 168,
      "metadata": {
        "id": "xzSOBM49wmOQ",
        "colab": {
          "base_uri": "https://localhost:8080/"
        },
        "outputId": "3939ce20-9f6e-4af0-83ad-0ec564400cfe"
      },
      "outputs": [
        {
          "output_type": "stream",
          "name": "stdout",
          "text": [
            "Each of the 16000 input_text is represented by 1500 features (TF-IDF score of unigrams and bigrams)\n"
          ]
        }
      ],
      "source": [
        "labels = df_train1.sentiment_id\n",
        "X_train, tfidf = vectorize_X(df_train1, input, max_words)  # training data input\n",
        "y_train = df_train1[encoded_target] # training data target\n",
        "X_val = tfidf.transform(df_val1[input]).toarray() # validation data input\n",
        "y_val = df_val1[encoded_target] #  validation target\n",
        "X_test = tfidf.transform(df_test1[input]).toarray() # test data input\n",
        "y_test = df_test1[encoded_target] # test data target"
      ]
    },
    {
      "cell_type": "code",
      "source": [
        "X_test.shape"
      ],
      "metadata": {
        "colab": {
          "base_uri": "https://localhost:8080/"
        },
        "id": "V6H2FazzaxCH",
        "outputId": "72fbce40-58c2-4316-c408-37865d3d87ad"
      },
      "execution_count": 169,
      "outputs": [
        {
          "output_type": "execute_result",
          "data": {
            "text/plain": [
              "(2000, 1500)"
            ]
          },
          "metadata": {},
          "execution_count": 169
        }
      ]
    },
    {
      "cell_type": "code",
      "source": [
        "# models class having all the models\n",
        "class Models:\n",
        "  def __init__(self, X_train, y_train, weights=None):\n",
        "    self.X_train = X_train\n",
        "    self.y_train = y_train\n",
        "    self.weights_dict = weights\n",
        "\n",
        "  def linearSVC(self):\n",
        "    # Linear Support Vector Classification\n",
        "    clf = LinearSVC(penalty='l2', C=1.0, class_weight=self.weights_dict)\n",
        "    clf.fit(self.X_train, self.y_train)\n",
        "    return clf\n",
        "\n",
        "  def naive_bayes(self):\n",
        "    # Naive Bayes\n",
        "    clf = MultinomialNB(alpha=0.5, class_prior=None, fit_prior=True)\n",
        "    clf.fit(self.X_train, self.y_train)\n",
        "    return clf\n",
        "\n",
        "  def random_forest(self):\n",
        "    # Random Forest\n",
        "    clf = RandomForestClassifier(n_estimators=100, criterion='entropy',\n",
        "                                 bootstrap=False, class_weight=self.weights_dict)\n",
        "    clf.fit(self.X_train, self.y_train)\n",
        "    return clf\n",
        "\n",
        "  def knn(self):\n",
        "    # K-Nearest Neighbors\n",
        "    clf = KNeighborsClassifier(n_neighbors=5)\n",
        "    clf.fit(self.X_train, self.y_train)\n",
        "    return clf"
      ],
      "metadata": {
        "id": "eLs87aVLBQov"
      },
      "execution_count": 170,
      "outputs": []
    },
    {
      "cell_type": "code",
      "source": [
        "models = Models(X_train, y_train)\n",
        "svc = models.linearSVC()\n",
        "nb = models.naive_bayes()\n",
        "rf = models.random_forest()\n",
        "knn = models.knn()"
      ],
      "metadata": {
        "id": "ko1OBElPB_Mk"
      },
      "execution_count": 171,
      "outputs": []
    },
    {
      "cell_type": "code",
      "source": [
        "# Classification report\n",
        "def report(y_pred, y_test):\n",
        "  print('\\t\\t\\t\\tCLASSIFICATIION METRICS\\n')\n",
        "  print(metrics.classification_report(y_test, y_pred,\n",
        "                                      target_names= df_train1['emotions'].unique()))"
      ],
      "metadata": {
        "id": "tCWiJTlYCRej"
      },
      "execution_count": 172,
      "outputs": []
    },
    {
      "cell_type": "code",
      "execution_count": 173,
      "metadata": {
        "id": "Wk1yHgJUB6gX",
        "colab": {
          "base_uri": "https://localhost:8080/"
        },
        "outputId": "b932c2e0-d902-4769-9596-7d5624d935b9"
      },
      "outputs": [
        {
          "output_type": "stream",
          "name": "stdout",
          "text": [
            "\t\t\t\tCLASSIFICATIION METRICS\n",
            "\n",
            "              precision    recall  f1-score   support\n",
            "\n",
            "     sadness       0.88      0.93      0.90       550\n",
            "       anger       0.01      0.02      0.01       178\n",
            "        love       0.01      0.01      0.01       275\n",
            "    surprise       0.04      0.00      0.01       704\n",
            "        fear       0.85      0.82      0.83       212\n",
            "         joy       0.01      0.05      0.01        81\n",
            "\n",
            "    accuracy                           0.35      2000\n",
            "   macro avg       0.30      0.30      0.30      2000\n",
            "weighted avg       0.35      0.35      0.34      2000\n",
            "\n"
          ]
        }
      ],
      "source": [
        "# svc report on validation data\n",
        "y_pred = svc.predict(X_val)\n",
        "report(y_pred, y_val)"
      ]
    },
    {
      "cell_type": "code",
      "source": [
        "# svc report on test data\n",
        "y_pred = svc.predict(X_test)\n",
        "report(y_pred, y_test)"
      ],
      "metadata": {
        "colab": {
          "base_uri": "https://localhost:8080/"
        },
        "id": "l7ghJtn3JzYB",
        "outputId": "dda3ad53-177e-43ce-a1a4-ab443e2722d8"
      },
      "execution_count": 174,
      "outputs": [
        {
          "output_type": "stream",
          "name": "stdout",
          "text": [
            "\t\t\t\tCLASSIFICATIION METRICS\n",
            "\n",
            "              precision    recall  f1-score   support\n",
            "\n",
            "     sadness       0.90      0.93      0.92       581\n",
            "       anger       0.02      0.01      0.01       695\n",
            "        love       0.01      0.01      0.01       224\n",
            "    surprise       0.00      0.00      0.00       275\n",
            "        fear       0.00      0.00      0.00       159\n",
            "         joy       0.02      0.17      0.03        66\n",
            "\n",
            "    accuracy                           0.28      2000\n",
            "   macro avg       0.16      0.18      0.16      2000\n",
            "weighted avg       0.27      0.28      0.27      2000\n",
            "\n"
          ]
        }
      ]
    },
    {
      "cell_type": "code",
      "execution_count": 175,
      "metadata": {
        "colab": {
          "base_uri": "https://localhost:8080/"
        },
        "id": "B-k6K6CAB6iI",
        "outputId": "9f1c14b3-180b-46d7-bab2-fa52c3b5bca1"
      },
      "outputs": [
        {
          "output_type": "stream",
          "name": "stdout",
          "text": [
            "\t\t\t\tCLASSIFICATIION METRICS\n",
            "\n",
            "              precision    recall  f1-score   support\n",
            "\n",
            "     sadness       0.83      0.94      0.88       550\n",
            "       anger       0.02      0.02      0.02       178\n",
            "        love       0.01      0.00      0.01       275\n",
            "    surprise       0.00      0.00      0.00       704\n",
            "        fear       0.86      0.73      0.79       212\n",
            "         joy       0.02      0.25      0.04        81\n",
            "\n",
            "    accuracy                           0.35      2000\n",
            "   macro avg       0.29      0.32      0.29      2000\n",
            "weighted avg       0.32      0.35      0.33      2000\n",
            "\n"
          ]
        }
      ],
      "source": [
        "# naive bayes report on validation set\n",
        "y_pred = nb.predict(X_val)\n",
        "report(y_pred, y_val)"
      ]
    },
    {
      "cell_type": "code",
      "source": [
        "# naive bayes report on test data\n",
        "y_pred = nb.predict(X_test)\n",
        "report(y_pred, y_test)"
      ],
      "metadata": {
        "colab": {
          "base_uri": "https://localhost:8080/"
        },
        "id": "CLw9RKdeJ6oS",
        "outputId": "905f07c7-2d9f-4244-b21e-dc4c869a9e7b"
      },
      "execution_count": 176,
      "outputs": [
        {
          "output_type": "stream",
          "name": "stdout",
          "text": [
            "\t\t\t\tCLASSIFICATIION METRICS\n",
            "\n",
            "              precision    recall  f1-score   support\n",
            "\n",
            "     sadness       0.87      0.93      0.90       581\n",
            "       anger       0.00      0.00      0.00       695\n",
            "        love       0.00      0.00      0.00       224\n",
            "    surprise       0.00      0.00      0.00       275\n",
            "        fear       0.00      0.00      0.00       159\n",
            "         joy       0.03      0.35      0.05        66\n",
            "\n",
            "    accuracy                           0.28      2000\n",
            "   macro avg       0.15      0.21      0.16      2000\n",
            "weighted avg       0.25      0.28      0.26      2000\n",
            "\n"
          ]
        }
      ]
    },
    {
      "cell_type": "code",
      "source": [
        "# rf report on validation data\n",
        "y_pred = rf.predict(X_val)\n",
        "report(y_pred, y_val)"
      ],
      "metadata": {
        "colab": {
          "base_uri": "https://localhost:8080/"
        },
        "id": "-wI3ALhfNynv",
        "outputId": "43b17a6c-f576-4486-ef67-1f1aaaac3ed2"
      },
      "execution_count": 177,
      "outputs": [
        {
          "output_type": "stream",
          "name": "stdout",
          "text": [
            "\t\t\t\tCLASSIFICATIION METRICS\n",
            "\n",
            "              precision    recall  f1-score   support\n",
            "\n",
            "     sadness       0.91      0.87      0.89       550\n",
            "       anger       0.00      0.01      0.00       178\n",
            "        love       0.01      0.00      0.00       275\n",
            "    surprise       0.03      0.00      0.01       704\n",
            "        fear       0.78      0.84      0.81       212\n",
            "         joy       0.01      0.09      0.02        81\n",
            "\n",
            "    accuracy                           0.33      2000\n",
            "   macro avg       0.29      0.30      0.29      2000\n",
            "weighted avg       0.34      0.33      0.33      2000\n",
            "\n"
          ]
        }
      ]
    },
    {
      "cell_type": "code",
      "source": [
        "# rf report on test data\n",
        "y_pred = rf.predict(X_test)\n",
        "report(y_pred, y_test)"
      ],
      "metadata": {
        "colab": {
          "base_uri": "https://localhost:8080/"
        },
        "id": "tHuPIPWsN1dw",
        "outputId": "bf2be00b-5c9b-4466-b5d1-4687a9fb5ae4"
      },
      "execution_count": 178,
      "outputs": [
        {
          "output_type": "stream",
          "name": "stdout",
          "text": [
            "\t\t\t\tCLASSIFICATIION METRICS\n",
            "\n",
            "              precision    recall  f1-score   support\n",
            "\n",
            "     sadness       0.92      0.86      0.89       581\n",
            "       anger       0.03      0.01      0.01       695\n",
            "        love       0.01      0.01      0.01       224\n",
            "    surprise       0.02      0.00      0.01       275\n",
            "        fear       0.00      0.00      0.00       159\n",
            "         joy       0.02      0.20      0.03        66\n",
            "\n",
            "    accuracy                           0.26      2000\n",
            "   macro avg       0.17      0.18      0.16      2000\n",
            "weighted avg       0.28      0.26      0.27      2000\n",
            "\n"
          ]
        }
      ]
    },
    {
      "cell_type": "code",
      "source": [
        "# knn report on validation data\n",
        "y_pred = knn.predict(X_val)\n",
        "report(y_pred, y_val)"
      ],
      "metadata": {
        "colab": {
          "base_uri": "https://localhost:8080/"
        },
        "id": "EoKER7_UKO5i",
        "outputId": "99a3015a-f95f-404f-81c2-dbd0ff8cd74c"
      },
      "execution_count": 179,
      "outputs": [
        {
          "output_type": "stream",
          "name": "stdout",
          "text": [
            "\t\t\t\tCLASSIFICATIION METRICS\n",
            "\n",
            "              precision    recall  f1-score   support\n",
            "\n",
            "     sadness       0.78      0.54      0.64       550\n",
            "       anger       0.04      0.04      0.04       178\n",
            "        love       0.01      0.00      0.01       275\n",
            "    surprise       0.04      0.00      0.01       704\n",
            "        fear       0.19      0.80      0.31       212\n",
            "         joy       0.02      0.11      0.03        81\n",
            "\n",
            "    accuracy                           0.24      2000\n",
            "   macro avg       0.18      0.25      0.17      2000\n",
            "weighted avg       0.26      0.24      0.22      2000\n",
            "\n"
          ]
        }
      ]
    },
    {
      "cell_type": "code",
      "execution_count": 180,
      "metadata": {
        "id": "JIUQe0YTQTWd",
        "colab": {
          "base_uri": "https://localhost:8080/"
        },
        "outputId": "d51ba35e-bcd0-4335-e2da-a124845127b6"
      },
      "outputs": [
        {
          "output_type": "stream",
          "name": "stdout",
          "text": [
            "\t\t\t\tCLASSIFICATIION METRICS\n",
            "\n",
            "              precision    recall  f1-score   support\n",
            "\n",
            "     sadness       0.80      0.56      0.66       581\n",
            "       anger       0.09      0.02      0.04       695\n",
            "        love       0.01      0.00      0.01       224\n",
            "    surprise       0.00      0.00      0.00       275\n",
            "        fear       0.08      0.45      0.14       159\n",
            "         joy       0.01      0.08      0.02        66\n",
            "\n",
            "    accuracy                           0.21      2000\n",
            "   macro avg       0.17      0.18      0.14      2000\n",
            "weighted avg       0.27      0.21      0.22      2000\n",
            "\n"
          ]
        }
      ],
      "source": [
        "# knn report on test data\n",
        "y_pred = knn.predict(X_test)\n",
        "report(y_pred, y_test)"
      ]
    },
    {
      "cell_type": "markdown",
      "source": [
        "We have seen that we have data imbalance issue. We will try to deal with is in different ways:\n",
        "1. Try to use sampling techniques to generate data for minority classes\n",
        "2. Try to catogorized the emotions into into following categories:\n",
        "  a.Positive : love, joy\n",
        "  b.Negative: fear, anger, sadness\n",
        "  c.Neutral: surprise\n",
        "3. We can assign weights to minority classes"
      ],
      "metadata": {
        "id": "u5qq6OCVEJjX"
      }
    },
    {
      "cell_type": "markdown",
      "source": [
        "Trying to use sampling techniques to generate data for minority classes"
      ],
      "metadata": {
        "id": "JvNZWm3ROtgn"
      }
    },
    {
      "cell_type": "code",
      "source": [
        "# generating data for minority class\n",
        "def sampling(df):\n",
        "  df_joy = df[df['emotions'] == 'joy']\n",
        "  df_love = df[df['emotions'] == 'love']\n",
        "  df_anger = df[df['emotions'] == 'anger']\n",
        "  df_fear = df[df['emotions'] == 'fear']\n",
        "  df_sadness = df[df['emotions'] == 'sadness']\n",
        "  df_surprise = df[df['emotions'] == 'surprise']\n",
        "  df_joy_oversampled = df_joy.sample(df_anger.shape[0], replace=True)\n",
        "  df_love_oversampled = df_love.sample(df_anger.shape[0], replace=True)\n",
        "  df_oversampled = pd.concat([df_anger, df_fear, df_sadness, df_surprise, df_joy_oversampled, df_love_oversampled], axis=0)\n",
        "  return df_oversampled"
      ],
      "metadata": {
        "id": "RzRF9CqpFzHj"
      },
      "execution_count": 181,
      "outputs": []
    },
    {
      "cell_type": "code",
      "source": [
        "df_oversampled = sampling(df_train)\n",
        "print(df_oversampled.shape)"
      ],
      "metadata": {
        "colab": {
          "base_uri": "https://localhost:8080/"
        },
        "id": "MbCohsTRLsAz",
        "outputId": "b85691fe-b863-4e4d-8f9f-2a4cfc5138b5"
      },
      "execution_count": 182,
      "outputs": [
        {
          "output_type": "stream",
          "name": "stdout",
          "text": [
            "(13652, 2)\n"
          ]
        }
      ]
    },
    {
      "cell_type": "code",
      "source": [
        "# now distributions looks better than the previous distribution\n",
        "df_oversampled[\"emotions\"].value_counts()/df_oversampled.shape[0] * 100"
      ],
      "metadata": {
        "colab": {
          "base_uri": "https://localhost:8080/"
        },
        "id": "EbBBq50cMGbE",
        "outputId": "6d1860cc-5224-4c7b-bb12-d7ea58422596"
      },
      "execution_count": 183,
      "outputs": [
        {
          "output_type": "execute_result",
          "data": {
            "text/plain": [
              "sadness     34.178142\n",
              "anger       15.814533\n",
              "joy         15.814533\n",
              "love        15.814533\n",
              "fear        14.188397\n",
              "surprise     4.189862\n",
              "Name: emotions, dtype: float64"
            ]
          },
          "metadata": {},
          "execution_count": 183
        }
      ]
    },
    {
      "cell_type": "code",
      "source": [
        "df_oversampled = encode_target(df_oversampled, target, encoded_target)"
      ],
      "metadata": {
        "id": "XsZ-yLPeMxCz"
      },
      "execution_count": 184,
      "outputs": []
    },
    {
      "cell_type": "code",
      "source": [
        "X_train, tfidf = vectorize_X(df_oversampled, input, max_words)  # training data input\n",
        "y_train = df_oversampled[encoded_target] # training data target"
      ],
      "metadata": {
        "colab": {
          "base_uri": "https://localhost:8080/"
        },
        "id": "hGGOu-2HMY5l",
        "outputId": "b816ac30-0a10-4d58-da91-c8912cd12f23"
      },
      "execution_count": 185,
      "outputs": [
        {
          "output_type": "stream",
          "name": "stdout",
          "text": [
            "Each of the 13652 input_text is represented by 1500 features (TF-IDF score of unigrams and bigrams)\n"
          ]
        }
      ]
    },
    {
      "cell_type": "code",
      "source": [
        "models = Models(X_train, y_train)\n",
        "svc = models.linearSVC()\n",
        "nb = models.naive_bayes()\n",
        "rf = models.random_forest()\n",
        "knn = models.knn()"
      ],
      "metadata": {
        "id": "eEx--ArbNCuR"
      },
      "execution_count": 186,
      "outputs": []
    },
    {
      "cell_type": "code",
      "source": [
        "# svc report on validation data\n",
        "y_pred = svc.predict(X_val)\n",
        "report(y_pred, y_val)"
      ],
      "metadata": {
        "colab": {
          "base_uri": "https://localhost:8080/"
        },
        "id": "3d-ntrk5NO5C",
        "outputId": "9336cd68-423a-4668-d911-09cf356efa88"
      },
      "execution_count": 187,
      "outputs": [
        {
          "output_type": "stream",
          "name": "stdout",
          "text": [
            "\t\t\t\tCLASSIFICATIION METRICS\n",
            "\n",
            "              precision    recall  f1-score   support\n",
            "\n",
            "     sadness       0.27      0.15      0.19       550\n",
            "       anger       0.09      0.15      0.11       178\n",
            "        love       0.14      0.41      0.21       275\n",
            "    surprise       0.31      0.03      0.05       704\n",
            "        fear       0.09      0.15      0.11       212\n",
            "         joy       0.01      0.02      0.02        81\n",
            "\n",
            "    accuracy                           0.14      2000\n",
            "   macro avg       0.15      0.15      0.11      2000\n",
            "weighted avg       0.22      0.14      0.12      2000\n",
            "\n"
          ]
        }
      ]
    },
    {
      "cell_type": "code",
      "source": [
        "# svc report on test data\n",
        "y_pred = svc.predict(X_test)\n",
        "report(y_pred, y_test)"
      ],
      "metadata": {
        "colab": {
          "base_uri": "https://localhost:8080/"
        },
        "id": "L38TIwiaNZHo",
        "outputId": "717a27e7-5452-4740-a0e2-ce89397ac769"
      },
      "execution_count": 188,
      "outputs": [
        {
          "output_type": "stream",
          "name": "stdout",
          "text": [
            "\t\t\t\tCLASSIFICATIION METRICS\n",
            "\n",
            "              precision    recall  f1-score   support\n",
            "\n",
            "     sadness       0.27      0.14      0.19       581\n",
            "       anger       0.29      0.13      0.18       695\n",
            "        love       0.11      0.38      0.18       224\n",
            "    surprise       0.05      0.01      0.02       275\n",
            "        fear       0.09      0.23      0.13       159\n",
            "         joy       0.01      0.03      0.02        66\n",
            "\n",
            "    accuracy                           0.15      2000\n",
            "   macro avg       0.14      0.15      0.12      2000\n",
            "weighted avg       0.21      0.15      0.15      2000\n",
            "\n"
          ]
        }
      ]
    },
    {
      "cell_type": "code",
      "source": [
        "# nb report on validation data\n",
        "y_pred = nb.predict(X_val)\n",
        "report(y_pred, y_val)"
      ],
      "metadata": {
        "colab": {
          "base_uri": "https://localhost:8080/"
        },
        "id": "44XIIgA8NbAw",
        "outputId": "aa3e3477-f192-42f5-ae9f-483a6df44133"
      },
      "execution_count": 189,
      "outputs": [
        {
          "output_type": "stream",
          "name": "stdout",
          "text": [
            "\t\t\t\tCLASSIFICATIION METRICS\n",
            "\n",
            "              precision    recall  f1-score   support\n",
            "\n",
            "     sadness       0.27      0.13      0.17       550\n",
            "       anger       0.09      0.12      0.10       178\n",
            "        love       0.15      0.53      0.23       275\n",
            "    surprise       0.31      0.02      0.03       704\n",
            "        fear       0.09      0.09      0.09       212\n",
            "         joy       0.03      0.10      0.05        81\n",
            "\n",
            "    accuracy                           0.14      2000\n",
            "   macro avg       0.15      0.16      0.11      2000\n",
            "weighted avg       0.22      0.14      0.11      2000\n",
            "\n"
          ]
        }
      ]
    },
    {
      "cell_type": "code",
      "source": [
        "# nb report on test data\n",
        "y_pred = nb.predict(X_test)\n",
        "report(y_pred, y_test)"
      ],
      "metadata": {
        "colab": {
          "base_uri": "https://localhost:8080/"
        },
        "id": "4rZWUzEFNfdZ",
        "outputId": "2cfb3156-9b85-480f-e993-7d33cb86e7db"
      },
      "execution_count": 190,
      "outputs": [
        {
          "output_type": "stream",
          "name": "stdout",
          "text": [
            "\t\t\t\tCLASSIFICATIION METRICS\n",
            "\n",
            "              precision    recall  f1-score   support\n",
            "\n",
            "     sadness       0.24      0.11      0.15       581\n",
            "       anger       0.31      0.11      0.16       695\n",
            "        love       0.11      0.46      0.17       224\n",
            "    surprise       0.04      0.00      0.01       275\n",
            "        fear       0.12      0.17      0.14       159\n",
            "         joy       0.02      0.09      0.04        66\n",
            "\n",
            "    accuracy                           0.14      2000\n",
            "   macro avg       0.14      0.16      0.11      2000\n",
            "weighted avg       0.20      0.14      0.13      2000\n",
            "\n"
          ]
        }
      ]
    },
    {
      "cell_type": "code",
      "source": [
        "# rf report on validation data\n",
        "y_pred = rf.predict(X_val)\n",
        "report(y_pred, y_val)"
      ],
      "metadata": {
        "colab": {
          "base_uri": "https://localhost:8080/"
        },
        "id": "l-z0bJS0Ne1v",
        "outputId": "1fcd3944-313a-40ad-e919-a038334f099c"
      },
      "execution_count": 191,
      "outputs": [
        {
          "output_type": "stream",
          "name": "stdout",
          "text": [
            "\t\t\t\tCLASSIFICATIION METRICS\n",
            "\n",
            "              precision    recall  f1-score   support\n",
            "\n",
            "     sadness       0.26      0.18      0.21       550\n",
            "       anger       0.08      0.46      0.14       178\n",
            "        love       0.19      0.15      0.16       275\n",
            "    surprise       0.29      0.03      0.05       704\n",
            "        fear       0.08      0.05      0.06       212\n",
            "         joy       0.03      0.07      0.04        81\n",
            "\n",
            "    accuracy                           0.13      2000\n",
            "   macro avg       0.15      0.16      0.11      2000\n",
            "weighted avg       0.22      0.13      0.12      2000\n",
            "\n"
          ]
        }
      ]
    },
    {
      "cell_type": "code",
      "source": [
        "# rf report on test data\n",
        "y_pred = rf.predict(X_test)\n",
        "report(y_pred, y_test)"
      ],
      "metadata": {
        "colab": {
          "base_uri": "https://localhost:8080/"
        },
        "id": "dg7QsSEONcNR",
        "outputId": "65b673bf-e40c-48af-8cd9-719ae55cb5da"
      },
      "execution_count": 192,
      "outputs": [
        {
          "output_type": "stream",
          "name": "stdout",
          "text": [
            "\t\t\t\tCLASSIFICATIION METRICS\n",
            "\n",
            "              precision    recall  f1-score   support\n",
            "\n",
            "     sadness       0.30      0.19      0.23       581\n",
            "       anger       0.34      0.48      0.40       695\n",
            "        love       0.10      0.10      0.10       224\n",
            "    surprise       0.06      0.01      0.02       275\n",
            "        fear       0.12      0.10      0.11       159\n",
            "         joy       0.01      0.03      0.01        66\n",
            "\n",
            "    accuracy                           0.24      2000\n",
            "   macro avg       0.15      0.15      0.14      2000\n",
            "weighted avg       0.23      0.24      0.23      2000\n",
            "\n"
          ]
        }
      ]
    },
    {
      "cell_type": "code",
      "source": [
        "# knn report on validation data\n",
        "y_pred = knn.predict(X_val)\n",
        "report(y_pred, y_val)"
      ],
      "metadata": {
        "colab": {
          "base_uri": "https://localhost:8080/"
        },
        "id": "2LfeepajOD8R",
        "outputId": "e2d3f592-96ea-43b7-b6a4-73fe2f344410"
      },
      "execution_count": 193,
      "outputs": [
        {
          "output_type": "stream",
          "name": "stdout",
          "text": [
            "\t\t\t\tCLASSIFICATIION METRICS\n",
            "\n",
            "              precision    recall  f1-score   support\n",
            "\n",
            "     sadness       0.27      0.91      0.42       550\n",
            "       anger       0.17      0.02      0.04       178\n",
            "        love       0.13      0.04      0.06       275\n",
            "    surprise       0.20      0.00      0.00       704\n",
            "        fear       0.06      0.01      0.02       212\n",
            "         joy       0.00      0.00      0.00        81\n",
            "\n",
            "    accuracy                           0.26      2000\n",
            "   macro avg       0.14      0.16      0.09      2000\n",
            "weighted avg       0.18      0.26      0.13      2000\n",
            "\n"
          ]
        }
      ]
    },
    {
      "cell_type": "code",
      "source": [
        "# knn report on test data\n",
        "y_pred = knn.predict(X_test)\n",
        "report(y_pred, y_test)"
      ],
      "metadata": {
        "colab": {
          "base_uri": "https://localhost:8080/"
        },
        "id": "kYSnUeUSOF3d",
        "outputId": "e5e0da19-bc3c-481b-9bc1-36a006ce1a6d"
      },
      "execution_count": 194,
      "outputs": [
        {
          "output_type": "stream",
          "name": "stdout",
          "text": [
            "\t\t\t\tCLASSIFICATIION METRICS\n",
            "\n",
            "              precision    recall  f1-score   support\n",
            "\n",
            "     sadness       0.29      0.90      0.44       581\n",
            "       anger       0.40      0.01      0.02       695\n",
            "        love       0.06      0.02      0.03       224\n",
            "    surprise       0.00      0.00      0.00       275\n",
            "        fear       0.11      0.03      0.04       159\n",
            "         joy       0.00      0.00      0.00        66\n",
            "\n",
            "    accuracy                           0.27      2000\n",
            "   macro avg       0.14      0.16      0.09      2000\n",
            "weighted avg       0.24      0.27      0.14      2000\n",
            "\n"
          ]
        }
      ]
    },
    {
      "cell_type": "markdown",
      "source": [
        "Trying to catogorized the emotions into into following categories: a.Positive : love, joy b.Negative: fear, anger, sadness c.Neutral: surprise"
      ],
      "metadata": {
        "id": "QYQ947Z5OzMG"
      }
    },
    {
      "cell_type": "code",
      "source": [
        "# convert the emotions into 3 categories\n",
        "def categorize(df, col):\n",
        "  df[col] = df[col].replace({\n",
        "      'sadness': 'negative',\n",
        "      'anger': 'negative',\n",
        "      'fear': 'negative',\n",
        "      'love': 'positive',\n",
        "      'joy': 'positive',\n",
        "      'surprise': 'neutral'\n",
        "  })\n",
        "  return df"
      ],
      "metadata": {
        "id": "Y8eG0uIt5L7c"
      },
      "execution_count": 195,
      "outputs": []
    },
    {
      "cell_type": "code",
      "source": [
        "df_train1 = df_train.copy()\n",
        "df_test1 = df_test.copy()\n",
        "df_val1 = df_val.copy()"
      ],
      "metadata": {
        "id": "tb0XqIo3NKLw"
      },
      "execution_count": 196,
      "outputs": []
    },
    {
      "cell_type": "code",
      "source": [
        "# convert to 3 class\n",
        "df_train1 = categorize(df_train1, target)\n",
        "df_test1 = categorize(df_test1, target)\n",
        "df_val1 = categorize(df_val1, target)"
      ],
      "metadata": {
        "id": "bLcyK5V_6xkH"
      },
      "execution_count": 197,
      "outputs": []
    },
    {
      "cell_type": "code",
      "source": [
        "df_train1 = preprocessing(df_train1, input)\n",
        "df_test1 = preprocessing(df_test1, input)\n",
        "df_val1 = preprocessing(df_val1, input)\n",
        "\n",
        "df_train1 = df_train1.df\n",
        "df_test1 = df_test1.df\n",
        "df_val1 = df_val1.df"
      ],
      "metadata": {
        "id": "kWwUQLV67LKb"
      },
      "execution_count": 198,
      "outputs": []
    },
    {
      "cell_type": "code",
      "source": [
        "df_train1 = encode_target(df_train1, target, encoded_target)\n",
        "df_test1 = encode_target(df_test1, target, encoded_target)\n",
        "df_val1 = encode_target(df_val1, target, encoded_target)"
      ],
      "metadata": {
        "id": "Rl9YOV11Qix-"
      },
      "execution_count": 199,
      "outputs": []
    },
    {
      "cell_type": "code",
      "source": [
        "labels = df_train1.sentiment_id\n",
        "X_train, tfidf = vectorize_X(df_train1, input, max_words)  # training data input\n",
        "y_train = df_train1[encoded_target] # training data target\n",
        "X_val = tfidf.transform(df_val1[input]).toarray() # validation data input\n",
        "y_val = df_val1[encoded_target] #  validation target\n",
        "X_test = tfidf.transform(df_test1[input]).toarray() # test data input\n",
        "y_test = df_test1[encoded_target] # test data target"
      ],
      "metadata": {
        "colab": {
          "base_uri": "https://localhost:8080/"
        },
        "id": "BPuo_RnY66m3",
        "outputId": "8ebdc130-4780-4024-d2dc-241893abdb90"
      },
      "execution_count": 200,
      "outputs": [
        {
          "output_type": "stream",
          "name": "stdout",
          "text": [
            "Each of the 16000 input_text is represented by 1500 features (TF-IDF score of unigrams and bigrams)\n"
          ]
        }
      ]
    },
    {
      "cell_type": "code",
      "source": [
        "models = Models(X_train, y_train)\n",
        "svc = models.linearSVC()\n",
        "nb = models.naive_bayes()\n",
        "rf = models.random_forest()\n",
        "knn = models.knn()"
      ],
      "metadata": {
        "id": "-R0y6MHyQfkm"
      },
      "execution_count": 201,
      "outputs": []
    },
    {
      "cell_type": "code",
      "source": [
        "# svc report on validation data\n",
        "y_pred = svc.predict(X_val)\n",
        "report(y_pred, y_val)"
      ],
      "metadata": {
        "colab": {
          "base_uri": "https://localhost:8080/"
        },
        "outputId": "1cf0f12d-0a4a-456f-da4d-75b76829417d",
        "id": "QdJofi_WQfkm"
      },
      "execution_count": 202,
      "outputs": [
        {
          "output_type": "stream",
          "name": "stdout",
          "text": [
            "\t\t\t\tCLASSIFICATIION METRICS\n",
            "\n",
            "              precision    recall  f1-score   support\n",
            "\n",
            "    negative       0.93      0.96      0.95      1037\n",
            "    positive       0.96      0.93      0.94       882\n",
            "     neutral       0.82      0.77      0.79        81\n",
            "\n",
            "    accuracy                           0.94      2000\n",
            "   macro avg       0.90      0.88      0.89      2000\n",
            "weighted avg       0.94      0.94      0.94      2000\n",
            "\n"
          ]
        }
      ]
    },
    {
      "cell_type": "code",
      "source": [
        "# svc report on test data\n",
        "y_pred = svc.predict(X_test)\n",
        "report(y_pred, y_test)"
      ],
      "metadata": {
        "colab": {
          "base_uri": "https://localhost:8080/"
        },
        "outputId": "1645ff8f-7f7c-4edf-8206-5a245d837fe2",
        "id": "O_as9pdsQfkm"
      },
      "execution_count": 203,
      "outputs": [
        {
          "output_type": "stream",
          "name": "stdout",
          "text": [
            "\t\t\t\tCLASSIFICATIION METRICS\n",
            "\n",
            "              precision    recall  f1-score   support\n",
            "\n",
            "    negative       0.95      0.97      0.96      1080\n",
            "    positive       0.95      0.95      0.95       854\n",
            "     neutral       0.84      0.64      0.72        66\n",
            "\n",
            "    accuracy                           0.95      2000\n",
            "   macro avg       0.92      0.85      0.88      2000\n",
            "weighted avg       0.95      0.95      0.95      2000\n",
            "\n"
          ]
        }
      ]
    },
    {
      "cell_type": "code",
      "source": [
        "# nb report on validation data\n",
        "y_pred = nb.predict(X_val)\n",
        "report(y_pred, y_val)"
      ],
      "metadata": {
        "colab": {
          "base_uri": "https://localhost:8080/"
        },
        "outputId": "04a79121-9d01-4299-aeab-8285e0edf5f0",
        "id": "FnOHQ08qQfkn"
      },
      "execution_count": 204,
      "outputs": [
        {
          "output_type": "stream",
          "name": "stdout",
          "text": [
            "\t\t\t\tCLASSIFICATIION METRICS\n",
            "\n",
            "              precision    recall  f1-score   support\n",
            "\n",
            "    negative       0.91      0.98      0.94      1037\n",
            "    positive       0.95      0.92      0.94       882\n",
            "     neutral       0.96      0.32      0.48        81\n",
            "\n",
            "    accuracy                           0.93      2000\n",
            "   macro avg       0.94      0.74      0.79      2000\n",
            "weighted avg       0.93      0.93      0.92      2000\n",
            "\n"
          ]
        }
      ]
    },
    {
      "cell_type": "code",
      "source": [
        "# nb report on test data\n",
        "y_pred = nb.predict(X_test)\n",
        "report(y_pred, y_test)"
      ],
      "metadata": {
        "colab": {
          "base_uri": "https://localhost:8080/"
        },
        "outputId": "9eaf98db-7e41-4f6b-c487-cfcc23d69741",
        "id": "H5hcg0RlQfko"
      },
      "execution_count": 205,
      "outputs": [
        {
          "output_type": "stream",
          "name": "stdout",
          "text": [
            "\t\t\t\tCLASSIFICATIION METRICS\n",
            "\n",
            "              precision    recall  f1-score   support\n",
            "\n",
            "    negative       0.93      0.97      0.95      1080\n",
            "    positive       0.95      0.94      0.94       854\n",
            "     neutral       1.00      0.26      0.41        66\n",
            "\n",
            "    accuracy                           0.94      2000\n",
            "   macro avg       0.96      0.72      0.77      2000\n",
            "weighted avg       0.94      0.94      0.93      2000\n",
            "\n"
          ]
        }
      ]
    },
    {
      "cell_type": "code",
      "source": [
        "# rf report on validation data\n",
        "y_pred = rf.predict(X_val)\n",
        "report(y_pred, y_val)"
      ],
      "metadata": {
        "colab": {
          "base_uri": "https://localhost:8080/"
        },
        "outputId": "f6592c1b-d3dc-47d4-9a98-cca497246df4",
        "id": "OKzeAEJwQfko"
      },
      "execution_count": 206,
      "outputs": [
        {
          "output_type": "stream",
          "name": "stdout",
          "text": [
            "\t\t\t\tCLASSIFICATIION METRICS\n",
            "\n",
            "              precision    recall  f1-score   support\n",
            "\n",
            "    negative       0.91      0.95      0.93      1037\n",
            "    positive       0.94      0.90      0.92       882\n",
            "     neutral       0.82      0.81      0.82        81\n",
            "\n",
            "    accuracy                           0.92      2000\n",
            "   macro avg       0.89      0.89      0.89      2000\n",
            "weighted avg       0.92      0.92      0.92      2000\n",
            "\n"
          ]
        }
      ]
    },
    {
      "cell_type": "code",
      "source": [
        "# rf report on test data\n",
        "y_pred = rf.predict(X_test)\n",
        "report(y_pred, y_test)"
      ],
      "metadata": {
        "colab": {
          "base_uri": "https://localhost:8080/"
        },
        "outputId": "f8903caa-6915-4f3a-ae6d-c826f46adb00",
        "id": "Ha6VBO4dQfkp"
      },
      "execution_count": 207,
      "outputs": [
        {
          "output_type": "stream",
          "name": "stdout",
          "text": [
            "\t\t\t\tCLASSIFICATIION METRICS\n",
            "\n",
            "              precision    recall  f1-score   support\n",
            "\n",
            "    negative       0.93      0.94      0.94      1080\n",
            "    positive       0.94      0.93      0.93       854\n",
            "     neutral       0.66      0.62      0.64        66\n",
            "\n",
            "    accuracy                           0.93      2000\n",
            "   macro avg       0.84      0.83      0.84      2000\n",
            "weighted avg       0.93      0.93      0.93      2000\n",
            "\n"
          ]
        }
      ]
    },
    {
      "cell_type": "code",
      "source": [
        "# knn report on validation data\n",
        "y_pred = knn.predict(X_val)\n",
        "report(y_pred, y_val)"
      ],
      "metadata": {
        "colab": {
          "base_uri": "https://localhost:8080/"
        },
        "outputId": "dc1e3960-0d9e-4131-d55d-c00080e20779",
        "id": "qlHyZ6asQfkp"
      },
      "execution_count": 208,
      "outputs": [
        {
          "output_type": "stream",
          "name": "stdout",
          "text": [
            "\t\t\t\tCLASSIFICATIION METRICS\n",
            "\n",
            "              precision    recall  f1-score   support\n",
            "\n",
            "    negative       0.68      0.96      0.80      1037\n",
            "    positive       0.92      0.52      0.66       882\n",
            "     neutral       0.79      0.38      0.52        81\n",
            "\n",
            "    accuracy                           0.74      2000\n",
            "   macro avg       0.80      0.62      0.66      2000\n",
            "weighted avg       0.79      0.74      0.73      2000\n",
            "\n"
          ]
        }
      ]
    },
    {
      "cell_type": "code",
      "source": [
        "# knn report on test data\n",
        "y_pred = knn.predict(X_test)\n",
        "report(y_pred, y_test)"
      ],
      "metadata": {
        "colab": {
          "base_uri": "https://localhost:8080/"
        },
        "outputId": "aba7be76-1b90-4b3c-e429-97f8ee7a7c44",
        "id": "-90qh75LQfkp"
      },
      "execution_count": 209,
      "outputs": [
        {
          "output_type": "stream",
          "name": "stdout",
          "text": [
            "\t\t\t\tCLASSIFICATIION METRICS\n",
            "\n",
            "              precision    recall  f1-score   support\n",
            "\n",
            "    negative       0.70      0.96      0.81      1080\n",
            "    positive       0.92      0.52      0.67       854\n",
            "     neutral       0.83      0.30      0.44        66\n",
            "\n",
            "    accuracy                           0.75      2000\n",
            "   macro avg       0.82      0.60      0.64      2000\n",
            "weighted avg       0.80      0.75      0.74      2000\n",
            "\n"
          ]
        }
      ]
    },
    {
      "cell_type": "code",
      "source": [
        "weights = df_train1[encoded_target].value_counts()/len(df_train1)\n",
        "weights_dict = weights.to_dict()\n",
        "weights_dict"
      ],
      "metadata": {
        "colab": {
          "base_uri": "https://localhost:8080/"
        },
        "id": "EvrlKmW47175",
        "outputId": "fc74503e-e009-411e-f4e0-9ec539bc65a4"
      },
      "execution_count": 210,
      "outputs": [
        {
          "output_type": "execute_result",
          "data": {
            "text/plain": [
              "{0: 0.547625, 1: 0.416625, 2: 0.03575}"
            ]
          },
          "metadata": {},
          "execution_count": 210
        }
      ]
    },
    {
      "cell_type": "code",
      "source": [],
      "metadata": {
        "id": "glSG26oMRu_7"
      },
      "execution_count": null,
      "outputs": []
    }
  ],
  "metadata": {
    "colab": {
      "provenance": [],
      "gpuType": "T4"
    },
    "kernelspec": {
      "display_name": "Python 3",
      "name": "python3"
    },
    "language_info": {
      "name": "python"
    },
    "accelerator": "GPU"
  },
  "nbformat": 4,
  "nbformat_minor": 0
}